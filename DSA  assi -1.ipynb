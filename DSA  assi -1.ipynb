{
 "cells": [
  {
   "cell_type": "code",
   "execution_count": 29,
   "id": "67a541a4",
   "metadata": {},
   "outputs": [
    {
     "name": "stdout",
     "output_type": "stream",
     "text": [
      "Count of pairs are :  3\n"
     ]
    }
   ],
   "source": [
    "#Q1. Write a program to find all pairs of an integer array whose sum is equal to a given number?\n",
    "\n",
    "\n",
    "\n",
    "\n",
    "def paircount(lst, x, sum):\n",
    " \n",
    "    count=0\n",
    "\n",
    "    for i in range(0, x):\n",
    "        for j in range(i + 1, x):\n",
    "            if lst[i] + lst[j] == sum:\n",
    "                count += 1\n",
    "    return count\n",
    "                \n",
    "                \n",
    "                \n",
    "            \n",
    " \n",
    " \n",
    "\n",
    "lst = [1, 5, 7, -1, 5]\n",
    "x = len(lst)\n",
    "sum = 6\n",
    "print(\"Count of pairs are : \",\n",
    "      paircount(lst, x, sum))"
   ]
  },
  {
   "cell_type": "code",
   "execution_count": 31,
   "id": "6ed21677",
   "metadata": {},
   "outputs": [
    {
     "name": "stdout",
     "output_type": "stream",
     "text": [
      "[6, 5, 4, 3, 2, 1]\n",
      "Reversed list is\n",
      "[6, 5, 4, 3, 2, 1]\n"
     ]
    }
   ],
   "source": [
    "#Q2. Write a program to reverse an array in place? In place means you cannot create a new array. You have to update the original array.\n",
    "\n",
    "\n",
    "def reverseList(x, start, end):\n",
    "    while start < end:\n",
    "        x[start], x[end] = x[end], x[start]\n",
    "        start += 1\n",
    "        end -= 1\n",
    " \n",
    "\n",
    "x = [1, 2, 3, 4, 5, 6]\n",
    "print(A)\n",
    "reverseList(x, 0, 5)\n",
    "print(\"Reversed list is\")\n",
    "print(x)"
   ]
  },
  {
   "cell_type": "code",
   "execution_count": 35,
   "id": "dc3395d9",
   "metadata": {},
   "outputs": [
    {
     "name": "stdout",
     "output_type": "stream",
     "text": [
      "Strings are rotations of each other\n"
     ]
    }
   ],
   "source": [
    "#Q3. Write a program to check if two strings are a rotation of each other?\n",
    "\n",
    "\n",
    "def checkString(s1, s2, indexFound, Size):\n",
    "    for i in range(Size):\n",
    "        if(s1[i] != s2[(indexFound + i) % Size]):\n",
    "            return False\n",
    "    return True\n",
    "s1 = \"abcd\"\n",
    "s2 = \"cdab\"\n",
    " \n",
    "if(len(s1) != len(s2)):\n",
    "    print(\"s2 is not a rotation on s1\") \n",
    "else:\n",
    " \n",
    "    indexes = []  \n",
    "    Size = len(s1)\n",
    "    firstChar = s1[0]\n",
    "    for i in range(Size):\n",
    "        if(s2[i] == firstChar):\n",
    "            indexes.append(i)\n",
    " \n",
    "    isRotation = False\n",
    "    for idx in indexes:\n",
    " \n",
    "        isRotation = checkString(s1, s2, idx, Size)\n",
    " \n",
    "        if(isRotation):\n",
    "            break\n",
    " \n",
    "    if(isRotation):\n",
    "        print(\"Strings are rotations of each other\")\n",
    "    else:\n",
    "        print(\"Strings are not rotations of each other\")"
   ]
  },
  {
   "cell_type": "code",
   "execution_count": 45,
   "id": "b5b3af0c",
   "metadata": {},
   "outputs": [
    {
     "name": "stdout",
     "output_type": "stream",
     "text": [
      "First non-repeating character is  p\n"
     ]
    }
   ],
   "source": [
    "#Q4. Write a program to print the first non-repeated character from a string?\n",
    "\n",
    "\n",
    "import sys\n",
    " \n",
    "CHARS = 256\n",
    "def NonRepeating(Str):\n",
    "    lst = [[] for i in range(CHARS)]\n",
    "    for i in range(CHARS):\n",
    "        lst[i] = [0,0]\n",
    "    for i in range(len(Str)):\n",
    "        lst[ord(Str[i])][0] += 1\n",
    "        lst[ord(Str[i])][1]= i \n",
    "    res = sys.maxsize\n",
    "    for i in range(CHARS):\n",
    "        if (lst[i][0] == 1):\n",
    "            res = min(res, lst[i][1]) \n",
    "    return res\n",
    "Str = \"pythoniseasytolearn\"\n",
    "index = NonRepeating(Str)\n",
    "if (index == sys.maxsize):\n",
    "    print(\"Either all characters are repeating or string is empty\")\n",
    "else:\n",
    "    print(\"First non-repeating character is \",Str[index])"
   ]
  },
  {
   "cell_type": "code",
   "execution_count": 46,
   "id": "f5eee8ef",
   "metadata": {},
   "outputs": [
    {
     "name": "stdout",
     "output_type": "stream",
     "text": [
      "Move disk 1 from rod A to rod C\n",
      "Move disk 2 from rod A to rod B\n",
      "Move disk 1 from rod C to rod B\n",
      "Move disk 3 from rod A to rod C\n",
      "Move disk 1 from rod B to rod A\n",
      "Move disk 2 from rod B to rod C\n",
      "Move disk 1 from rod A to rod C\n"
     ]
    }
   ],
   "source": [
    "#Q5- Read about the Tower of Hanoi algorithm. Write a program to implement it.\n",
    "\n",
    "def TowerOfHanoi(n, from_rod, to_rod, aux_rod):\n",
    "    if n == 0:\n",
    "        return\n",
    "    TowerOfHanoi(n-1, from_rod, aux_rod, to_rod)\n",
    "    print(\"Move disk\", n, \"from rod\", from_rod, \"to rod\", to_rod)\n",
    "    TowerOfHanoi(n-1, aux_rod, to_rod, from_rod)\n",
    "N = 3\n",
    "TowerOfHanoi(N, 'A', 'C', 'B')"
   ]
  },
  {
   "cell_type": "code",
   "execution_count": 50,
   "id": "af45a98a",
   "metadata": {},
   "outputs": [
    {
     "name": "stdout",
     "output_type": "stream",
     "text": [
      "FH^ D D &S* ? A\n"
     ]
    }
   ],
   "source": [
    "#Q6. Read about infix, prefix, and postfix expressions. Write a program to convert postfix to prefix expression.\n",
    "\n",
    "\n",
    "s = \"A?*&SDD^FH\"\n",
    " \n",
    "\n",
    "string = []\n",
    " \n",
    "operators = set(['+', '-', '*', '/', '^'])\n",
    " \n",
    "\n",
    "s = s[::-1]\n",
    " \n",
    "\n",
    "for i in s:\n",
    " \n",
    "    \n",
    "    if i in operators:\n",
    " \n",
    "        \n",
    "        a =string.pop()\n",
    "        b = string.pop()\n",
    "        temp = a+b+i\n",
    "        string.append(temp)\n",
    "    else:\n",
    "        string.append(i)\n",
    "print(*string)"
   ]
  },
  {
   "cell_type": "code",
   "execution_count": 58,
   "id": "d0201a13",
   "metadata": {},
   "outputs": [
    {
     "name": "stdout",
     "output_type": "stream",
     "text": [
      "(U*I)\n"
     ]
    }
   ],
   "source": [
    "#Q7. Write a program to convert prefix expression to infix expression\n",
    "\n",
    "\n",
    "def prefixToInfix(prefix):\n",
    "    stack = []\n",
    "    i = len(prefix) - 1\n",
    "    while i >= 0:\n",
    "        if not isOperator(prefix[i]):\n",
    "            stack.append(prefix[i])\n",
    "            i -= 1\n",
    "        else:\n",
    "            str = \"(\" + stack.pop() + prefix[i] + stack.pop() + \")\"\n",
    "            stack.append(str)\n",
    "            i -= 1\n",
    "     \n",
    "    return stack.pop()\n",
    " \n",
    "def isOperator(c):\n",
    "    if c == \"*\" or c == \"+\" or c == \"-\" or c == \"/\" or c == \"^\" or c == \"(\" or c == \")\":\n",
    "        return True\n",
    "    else:\n",
    "        return False\n",
    "str = \"*UIHG/JKBJ-/UYFGYUIU\"\n",
    "print(prefixToInfix(str))"
   ]
  },
  {
   "cell_type": "code",
   "execution_count": 72,
   "id": "888b966a",
   "metadata": {},
   "outputs": [],
   "source": [
    "#Q8. Write a program to check if all the brackets are closed in a given code snippet.\n",
    "\n",
    "\n",
    "def isBalanced(exp):\n",
    "    flag = True\n",
    "    count = 0\n",
    "    for i in range(len(exp)):\n",
    "        if (exp[i] == '('):\n",
    "            count += 1\n",
    "        else:\n",
    "            count -= 1\n",
    "        if (count < 0):\n",
    "            flag = False\n",
    "            break\n",
    "    if (count != 0):\n",
    "        flag = False\n",
    " \n",
    "    return flag\n",
    "    exp1 = \"((()))()()\"\n",
    "    if (isBalanced(exp1)):\n",
    "        print(\"Balanced\")\n",
    "    else:\n",
    "        print(\"Not Balanced\")\n",
    " \n",
    "    exp2 = \"())((())\"\n",
    " \n",
    "    if (isBalanced(exp2)):\n",
    "        print(\"Balanced\")\n",
    "    else:\n",
    "        print(\"Not Balanced\")"
   ]
  },
  {
   "cell_type": "code",
   "execution_count": 74,
   "id": "4e99f726",
   "metadata": {},
   "outputs": [
    {
     "name": "stdout",
     "output_type": "stream",
     "text": [
      "Original Stack\n",
      "52\n",
      "42\n",
      "32\n",
      "22\n",
      "12\n",
      "\n",
      "Stack after Reversing\n",
      "12\n",
      "22\n",
      "32\n",
      "42\n",
      "52\n"
     ]
    }
   ],
   "source": [
    "#Q9. Write a program to reverse a stack\n",
    "\n",
    "class Stack:\n",
    "    def __init__(self):\n",
    "        self.Elements = []\n",
    "         \n",
    "    # push() for insert an element\n",
    "    def push(self, value):\n",
    "        self.Elements.append(value)\n",
    "    def pop(self):\n",
    "        return self.Elements.pop()\n",
    "     \n",
    "    # empty() check the stack is empty of not\n",
    "    def empty(self):\n",
    "        return self.Elements == []\n",
    "\n",
    "    def show(self):\n",
    "        for value in reversed(self.Elements):\n",
    "            print(value)\n",
    "def BottomInsert(s, value):\n",
    "    if s.empty():\n",
    "        s.push(value)\n",
    "    else:\n",
    "        popped = s.pop()\n",
    "        BottomInsert(s, value)\n",
    "        s.push(popped)\n",
    "def Reverse(s):\n",
    "    if s.empty():\n",
    "        pass\n",
    "    else:\n",
    "        popped = s.pop()\n",
    "        Reverse(s)\n",
    "        BottomInsert(s, popped)\n",
    "stk = Stack()\n",
    " \n",
    "stk.push(12)\n",
    "stk.push(22)\n",
    "stk.push(32)\n",
    "stk.push(42)\n",
    "stk.push(52)\n",
    " \n",
    "print(\"Original Stack\")\n",
    "stk.show()\n",
    " \n",
    "print(\"\\nStack after Reversing\")\n",
    "Reverse(stk)\n",
    "stk.show()"
   ]
  },
  {
   "cell_type": "code",
   "execution_count": 75,
   "id": "e26c8ecc",
   "metadata": {},
   "outputs": [
    {
     "name": "stdout",
     "output_type": "stream",
     "text": [
      "1\n"
     ]
    }
   ],
   "source": [
    "#Q10. Write a program to find the smallest number using a stack.\n",
    "\n",
    "class Stack():\n",
    "    def __init__(self):\n",
    "        self.items = []\n",
    "        self.min = None\n",
    "\n",
    "    def push(self, item):\n",
    "        self.items.append(item)\n",
    "        self.minimum()\n",
    "\n",
    "    def pop(self):\n",
    "        if self.isEmpty():\n",
    "            raise ValueError('Empty stack')\n",
    "        else:\n",
    "            return self.items.pop()\n",
    "\n",
    "    def minimum(self):\n",
    "        if self.min is None:\n",
    "            self.min = self.peek()\n",
    "        else:\n",
    "            if self.peek() < self.min:\n",
    "                self.min = self.peek()\n",
    "\n",
    "    def getMinimum(self):\n",
    "        return self.min\n",
    "\n",
    "    def peek(self):\n",
    "        try:\n",
    "            return self.items[-1]\n",
    "        except IndexError as e:\n",
    "            print(e)\n",
    "\n",
    "    def size(self):\n",
    "        return len(self.items)\n",
    "\n",
    "    def isEmpty(self):\n",
    "        return self.size() == 0\n",
    "\n",
    "stack = Stack()\n",
    "\n",
    "nums = [6,4,8,9,1,5,2,3]\n",
    "for i in nums:\n",
    "    stack.push(i)\n",
    "\n",
    "print(stack.getMinimum())"
   ]
  },
  {
   "cell_type": "code",
   "execution_count": null,
   "id": "f930895e",
   "metadata": {},
   "outputs": [],
   "source": []
  }
 ],
 "metadata": {
  "kernelspec": {
   "display_name": "Python 3 (ipykernel)",
   "language": "python",
   "name": "python3"
  },
  "language_info": {
   "codemirror_mode": {
    "name": "ipython",
    "version": 3
   },
   "file_extension": ".py",
   "mimetype": "text/x-python",
   "name": "python",
   "nbconvert_exporter": "python",
   "pygments_lexer": "ipython3",
   "version": "3.10.5"
  }
 },
 "nbformat": 4,
 "nbformat_minor": 5
}
